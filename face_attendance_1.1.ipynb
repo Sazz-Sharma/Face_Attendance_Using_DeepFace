{
 "cells": [
  {
   "cell_type": "code",
   "execution_count": 36,
   "id": "2cfbe3d3",
   "metadata": {},
   "outputs": [],
   "source": [
    "import numpy as np\n",
    "import os\n",
    "import matplotlib.pyplot as plt\n",
    "import cv2 as cv \n",
    "from deepface import DeepFace\n",
    "import threading\n",
    "from PIL import Image\n",
    "import datetime\n",
    "import csv"
   ]
  },
  {
   "cell_type": "code",
   "execution_count": 37,
   "id": "e058b943",
   "metadata": {},
   "outputs": [],
   "source": [
    "def take_photo():\n",
    "    cap = cv.VideoCapture(0,cv.CAP_DSHOW)\n",
    "    cap.set(cv.CAP_PROP_FRAME_HEIGHT, 480)\n",
    "    cap.set(cv.CAP_PROP_FRAME_WIDTH, 640)\n",
    "    while True:\n",
    "        try:\n",
    "            _, frame = cap.read()\n",
    "            cv.imshow(\"video\", frame)\n",
    "        except:\n",
    "            cap.release()\n",
    "            print(\"Something went terribly wrong!\")\n",
    "            break\n",
    "        key = cv.waitKey(1)\n",
    "        if key == ord('c'):\n",
    "            cap.release()\n",
    "            cv.destroyAllWindows()\n",
    "            return frame\n",
    "            break\n",
    "        if key != -1:\n",
    "            break\n",
    "    cap.release()\n",
    "    cv.destroyAllWindows()\n",
    "    \n"
   ]
  },
  {
   "cell_type": "code",
   "execution_count": 38,
   "id": "fda2c3ce",
   "metadata": {},
   "outputs": [],
   "source": [
    "# def save_img(name, img, root_folder = r'C:\\\\jupyter_practice\\\\Computer_Vision_practice\\\\root_folder'):\n",
    "#     os.chdir(r'C:\\\\jupyter_practice\\\\Computer_Vision_practice')\n",
    "#     # reference = 'nizz.png'\n",
    "#     # name = input(\"Enter your name: \")\n",
    "#     # img = cv.imread(reference)\n",
    "#     os.chdir(root_folder)\n",
    "#     if name not in os.listdir(root_folder):\n",
    "#         os.mkdir(name)\n",
    "#         to_be_appended = root_folder + r'\\\\' + name\n",
    "#         os.chdir(to_be_appended)\n",
    "#         # cv.imwrite(f'{name}{len(os.listdir('root_folder'))}', )\n",
    "#         cv.imwrite(f'{name}.jpg', img)\n",
    "#     elif name in os.listdir(root_folder):\n",
    "#         os.chdir(root_folder + r\"\\\\\" + name)\n",
    "#         cv.imwrite(name + str(len(os.listdir(root_folder + r\"\\\\\" + name))) + '.jpg', img)\n",
    "\n",
    "\n",
    "\n",
    "def save_img(stdID,img, curr_folder = os.getcwd(), root_folder = os.path.join(os.getcwd(), 'root_folder')):\n",
    "    try:\n",
    "        img_folder = os.path.join(root_folder, str(stdID))\n",
    "#             cv.imwrite(f'{stdID}_{len(os.listdir(os.path.join(root_folder,str(stdID))))}')\n",
    "        cv.imwrite(os.path.join(img_folder, f\"{stdID}_{len(os.listdir(img_folder))}.jpg\"), img)\n",
    "\n",
    "    except FileNotFoundError:\n",
    "        return \"can't save\"\n",
    "\n",
    "def init_folder(stdID):\n",
    "    os.mkdir(os.path.join(os.getcwd(),'root_folder',str(stdID)))\n",
    "                \n",
    "\n",
    "    \n"
   ]
  },
  {
   "cell_type": "code",
   "execution_count": 118,
   "id": "5dc1d8de",
   "metadata": {},
   "outputs": [],
   "source": [
    "\n",
    "# ref = cv.imread('sazz.jpg')\n",
    "# # os.chdir(os.path.join(os.getcwd(),'root_folder','nizz'))\n",
    "# cv.imwrite(os.path.join(os.getcwd(), 'root_folder', 'nizz', 'sazz_test.jpg'), ref)"
   ]
  },
  {
   "cell_type": "code",
   "execution_count": 119,
   "id": "60ea0ec1",
   "metadata": {},
   "outputs": [],
   "source": [
    "# os.path.join(os.getcwd(),'root_folder', 'nizz', 'akdjf.jpg')"
   ]
  },
  {
   "cell_type": "code",
   "execution_count": 39,
   "id": "acdbccbb",
   "metadata": {},
   "outputs": [],
   "source": [
    "# def checkFace(img, root_folder = r'C:\\\\jupyter_practice\\\\Computer_Vision_practice\\\\root_folder'):\n",
    "    \n",
    "#     for folders in os.listdir(root_folder):\n",
    "#         if folders.endswith('.ipynb_checkpoints'):\n",
    "#             continue\n",
    "#         else:\n",
    "#             for images in os.listdir(root_folder + r'\\\\' + folders):\n",
    "#                 if images.endswith('.jpg'):\n",
    "#                     verification_result = DeepFace.verify(cv.imread(images), img)\n",
    "#                     if verification_result[0]:\n",
    "#                         return True\n",
    "#                 else:\n",
    "#                     continue\n",
    "#     return False\n",
    "\n",
    "\n",
    "# checkFace(img = 'sazz.jpg')\n",
    "\n",
    "\n",
    "def checkFace(img, root_folder = r'C:\\\\jupyter_practice\\\\Computer_Vision_practice\\\\root_folder'):\n",
    "    for folders in os.listdir(root_folder):\n",
    "        if folders.endswith('.ipynb_checkpoints'):\n",
    "            continue\n",
    "        else:\n",
    "            for images in os.listdir(root_folder + r\"\\\\\" + folders):\n",
    "                if images.endswith('.jpg'):\n",
    "                    try:\n",
    "                        verification_result = DeepFace.verify(img, cv.imread(root_folder + r\"\\\\\" + folders + r\"\\\\\" + images))\n",
    "                        if verification_result['verified']:\n",
    "                            return True, folders\n",
    "                    except ValueError:\n",
    "                        continue\n",
    "                        \n",
    "    return False, None\n"
   ]
  },
  {
   "cell_type": "code",
   "execution_count": 57,
   "id": "3f0f890d",
   "metadata": {},
   "outputs": [],
   "source": [
    "class FilePointerError(Exception):\n",
    "    def __init__(self, msg):\n",
    "        self.msg = msg\n",
    "        super().__init__(self.msg)\n",
    "\n",
    "\n",
    "        \n",
    "class manageEvent:\n",
    "    def __init__(self, root_path, csv_name):\n",
    "        self.root_path = root_path\n",
    "        self.csv_name = csv_name\n",
    "    \n",
    "    def setHeader(self, field_names: list):\n",
    "        with open(self.root_path + r'\\\\' +self.csv_name, mode = 'a') as fp:\n",
    "            writer = csv.DictWriter(fp, fieldnames = field_names)\n",
    "            if fp.tell() == 0:\n",
    "                writer.writeheader()\n",
    "                return field_names\n",
    "            else:\n",
    "                raise FilePointerError(\"File must be empty or the file pointer should be at start to set Header.\")\n",
    "    \n",
    "        \n",
    "    def append(self, data: dict, field_names: list, newline = ''):\n",
    "        with open(self.root_path + r\"\\\\\" + self.csv_name, mode = 'a', newline = '') as fp:\n",
    "            self.field_names = field_names\n",
    "            writer = csv.DictWriter(fp, fieldnames = self.field_names)\n",
    "            writer.writerow(data)\n",
    "            \n",
    "    def fetchFrom(self, csv_name, what_to_fetch: list):\n",
    "        with open(self.root_path + r'\\\\' + csv_name) as csv_file:\n",
    "            dictionary = csv.DictReader(csv_file)\n",
    "            fetched_data = list()\n",
    "            for rows in dictionary:\n",
    "                data = dict()\n",
    "                for field in what_to_fetch:\n",
    "                    data[field] = rows[field]\n",
    "                fetched_data.append(data)\n",
    "        return fetched_data\n",
    "    \n",
    "    def fetchRow(self,fromCSV,header, condition):\n",
    "        with open(self.root_path + r'\\\\' + fromCSV) as csv_file:\n",
    "            reader = csv.DictReader(csv_file)\n",
    "            for rows in reader:\n",
    "                if rows[header] == condition:\n",
    "                    return rows\n",
    "                \n",
    "    def fetchRowWithField(self, csv_name,fields: list, header, condition):\n",
    "        dictionary_list = self.fetchFrom(csv_name, fields)\n",
    "        for dictionary in dictionary_list:\n",
    "            if dictionary[header] == condition:\n",
    "                return dictionary\n",
    "        return None\n",
    "    \n",
    "    def isUniqueVal(self, key, value):\n",
    "        with open(os.path.join(self.root_path,self.csv_name)) as csv_file:\n",
    "            dictionary_list = csv.DictReader(csv_file)\n",
    "            for items in dictionary_list:\n",
    "                if items[key]==value:\n",
    "                    return True\n",
    "        return False\n",
    "            \n",
    "        \n",
    "        "
   ]
  },
  {
   "cell_type": "code",
   "execution_count": 41,
   "id": "f4b17dd2",
   "metadata": {},
   "outputs": [
    {
     "data": {
      "text/plain": [
       "{'3': 'I am fine'}"
      ]
     },
     "execution_count": 41,
     "metadata": {},
     "output_type": "execute_result"
    }
   ],
   "source": [
    "def without_keys(dictionary: dict, exclude_keys: list) -> dict:\n",
    "    return {x: dictionary[x] for x in dictionary.keys() if x not in exclude_keys}\n",
    "without_keys(dictionary = {'1': 'hello', '2':'how are you', '3': 'I am fine'},exclude_keys = ['1','2'])\n",
    "# hell = {'1': 'hello', '2':'how are you', '3': 'I am fine'}\n"
   ]
  },
  {
   "cell_type": "code",
   "execution_count": null,
   "id": "ac2d3f6e",
   "metadata": {},
   "outputs": [],
   "source": [
    "manager = manageEvent(os.path.join(os.getcwd(),'event_data'),os.path.join(os.getcwd(),'event_data','event0.csv'))"
   ]
  },
  {
   "cell_type": "code",
   "execution_count": null,
   "id": "c91dd592",
   "metadata": {},
   "outputs": [],
   "source": [
    "manager.fetchRowWithField(csv_name = 'testing.csv', fields = ['name','class','gender'],header = 'name',condition = 'sazz')"
   ]
  },
  {
   "cell_type": "code",
   "execution_count": null,
   "id": "7f8cce61",
   "metadata": {},
   "outputs": [],
   "source": [
    "manager.fetchFrom('testing.csv', ['name','class','age'])"
   ]
  },
  {
   "cell_type": "code",
   "execution_count": 42,
   "id": "1171fc12",
   "metadata": {},
   "outputs": [],
   "source": [
    "def take_details():\n",
    "    \n",
    "    headers = ['Name', 'Student Id','Course','Contact No.','Email','Registered Date']\n",
    "    name = input(\"Enter your Name: \")\n",
    "    std_id = int(input(\"Enter you Student ID: \"))\n",
    "    \n",
    "    while True:\n",
    "        try:\n",
    "            course = int(input(\"Enter your course (Input corresponding number)\\n1.BIT\\n2.BIBM\\n3.Others\\n->:\"))\n",
    "            if course in range(1,4):\n",
    "                break\n",
    "            else:\n",
    "                print(\"Input should range between 1 and 3\")\n",
    "                continue\n",
    "        except ValidError:\n",
    "            print(\"Input Corresponding number\")\n",
    "    while True:\n",
    "        try:\n",
    "            contact = int(input(\"Phone Number: \"))\n",
    "            if len(str(contact))==10:\n",
    "                break\n",
    "            else:\n",
    "                print(\"Not a valid Number\")\n",
    "                continue\n",
    "        except ValueError:\n",
    "            print(\"Only number supported\")\n",
    "    email = input(\"Enter your E-mail: \")\n",
    "    date = str(datetime.date.today())\n",
    "    course = 'BIT' if course == 1 else 'BIBM' if course ==2 else 'Others'\n",
    "    return {headers[0]: name, headers[1]:std_id, headers[2]:course, headers[3]: contact, headers[4]: email, headers[5]:date}, headers\n"
   ]
  },
  {
   "cell_type": "code",
   "execution_count": null,
   "id": "c0924495",
   "metadata": {},
   "outputs": [],
   "source": []
  },
  {
   "cell_type": "code",
   "execution_count": 64,
   "id": "fffc08ae",
   "metadata": {},
   "outputs": [
    {
     "name": "stdout",
     "output_type": "stream",
     "text": [
      "You are registered as:  2358469 in our root folder\n",
      "Is that you? (y/n) :y\n",
      "You are already registered in our sytem\n"
     ]
    }
   ],
   "source": [
    "def main():\n",
    "    os.chdir('C:\\\\jupyter_practice\\\\Computer_Vision_practice')\n",
    "    meta_data = \"testing.csv\"\n",
    "    event_file = \"event0.csv\"\n",
    "    photo = take_photo()\n",
    "    res = checkFace(photo, root_folder = r'.\\\\root_folder')\n",
    "    Manager_event = manageEvent(root_path = r\".\\\\event_data\", csv_name = event_file)\n",
    "    Manager_meta = manageEvent(root_path = r\".\\\\event_data\",csv_name = meta_data )\n",
    "    \n",
    "    if res[0]:\n",
    "        print(\"You are registered as: \",res[1], \"in our root folder\")\n",
    "        choice = input(\"Is that you? (y/n) :\")\n",
    "        \n",
    "        if choice == 'n':\n",
    "            details = take_details()\n",
    "            try:\n",
    "                init_folder(details[0]['Student Id'])\n",
    "                save_img(details[0]['Student Id'], photo)\n",
    "                Manager_meta.append(data = details[0], field_names = details[1])\n",
    "                Manager_event.append(Manager_meta.fetchRowWithField(meta_data,['Name','Student Id','Course','Contact No.','Email'],header = 'Student Id',condition = details[0]['Student Id']))\n",
    "            except FileExistsError:\n",
    "                print(\"The Student ID, is already registered in our system with name: !!\")    \n",
    "        elif choice == 'y':\n",
    "#             save_image(details[0]['Student Id'], photo)\n",
    "            save_img(res[1], photo)\n",
    "            if Manager_event.isUniqueVal('Student Id',str(res[1])):\n",
    "                print('You are already registered in the event')\n",
    "            else:            \n",
    "                Manager_event.append(Manager_meta.fetchRowWithField(meta_data, ['Name','Student Id','Course','Contact No.','Email'],header = 'Student Id',condition = str(res[1])),['Name','Student Id','Course','Contact No.','Email'])\n",
    "\n",
    "            \n",
    "    else:\n",
    "        details = take_details()\n",
    "        try:\n",
    "            init_folder(details[0]['Student Id'])\n",
    "            save_img(details[0]['Student Id'], photo)\n",
    "            Manager_meta.append(data = details[0], field_names = details[1])\n",
    "            Manager_event.append(data = without_keys(details[0], ['Registered Date']),field_names = ['Name','Student Id','Course','Contact No.','Email'])\n",
    "        except FileExistsError:\n",
    "            print(\"Your are already registered in our system\")\n",
    "#         dictionary_to_be_appended = Manager_meta.fetchRowWithField(meta_data,['Name','Student Id','Course','Contact No.','Email'],header = 'Student Id', condition = details[0]['Student Id'])\n",
    "#         print(dictionary_to_be_appended)\n",
    "#         Manager_event.append(Manager_meta.fetchRowWithField(meta_data, ['Name','Student Id','Course','Contact No.','Email'],header = 'Student Id',condition = str(res[1])),['Name','Student Id','Course','Contact No.','Email'])\n",
    "#         Manager_event.append(Manager_meta.fetchRowWithField(meta_data,['Name','Student Id','Course','Contact No.','Email'],header = 'Student Id',condition = details[0]['Student Id']),['Name','Student Id','Course','Contact No.','Email'])\n",
    "        \n",
    "# main()\n",
    "        "
   ]
  },
  {
   "cell_type": "code",
   "execution_count": null,
   "id": "e1f870e9",
   "metadata": {},
   "outputs": [],
   "source": []
  },
  {
   "cell_type": "code",
   "execution_count": null,
   "id": "c8303fd5",
   "metadata": {},
   "outputs": [],
   "source": [
    "# def registration():\n",
    "#     photo = take_photo()\n",
    "#     name = str(input(\"Enter Your name: \"))\n",
    "#     if not(checkFace(photo)):\n",
    "#         save_img(name, photo)\n",
    "#     if checkFace(photo):\n",
    "#         print(\"Username: already Exist\")\n",
    "#         save_img(name, photo)\n",
    "\n",
    "\n",
    "# def main():\n",
    "#     photo = take_photo()\n",
    "#     res = checkFace(photo)\n",
    "#     return res\n",
    "# main()\n",
    "    "
   ]
  },
  {
   "cell_type": "code",
   "execution_count": null,
   "id": "37dc7ca6",
   "metadata": {},
   "outputs": [],
   "source": [
    "# img = \"sazz0.jpg\"\n",
    "# checkFace(img)\n",
    "# root_folder = r'C:\\\\jupyter_practice\\\\Computer_Vision_practice\\\\root_folder'\n",
    "# for folders in os.listdir(root_folder):\n",
    "#     for images in os.listdir(root_folder + r\"\\\\\" + folders):\n",
    "#         if images.endswith('.jpg'):\n",
    "#             print(images)"
   ]
  },
  {
   "cell_type": "code",
   "execution_count": null,
   "id": "c0fc1701",
   "metadata": {},
   "outputs": [],
   "source": [
    "# x = [y for y in os.listdir(r'C:\\\\jupyter_practice\\\\Computer_Vision_practice\\\\root_folder')]"
   ]
  },
  {
   "cell_type": "code",
   "execution_count": null,
   "id": "93e913ba",
   "metadata": {},
   "outputs": [],
   "source": [
    "# root_folder = r'C:\\\\jupyter_practice\\\\Computer_Vision_practice\\\\root_folder'\n",
    "# for images in os.listdir(root_folder + r\"\\\\\"+ x[0]):\n",
    "#     print(images)"
   ]
  },
  {
   "cell_type": "code",
   "execution_count": null,
   "id": "0500d00b",
   "metadata": {},
   "outputs": [],
   "source": [
    "# with open('sth.csv','a', newline = '') as fp:\n",
    "# #     sthDict = list(csv.DictReader(fp))\n",
    "# #     testDict = {'first_name': 'Hello', 'second_name': 'Thakur', 'age': 20, 'group': 'loda'}\n",
    "# #     fp.append(testDict)\n",
    "#     writer = csv.DictWriter(fp, fieldnames = ['first_name', 'second_name', 'age', 'group'])\n",
    "#     writer.writerow({\"first_name\": 'Bikalpa', 'second_name': 'Paudel', 'age': 18, 'group': 'L4CG7'})\n",
    "   \n",
    "    "
   ]
  },
  {
   "cell_type": "code",
   "execution_count": null,
   "id": "2d0cd073",
   "metadata": {},
   "outputs": [],
   "source": []
  },
  {
   "cell_type": "code",
   "execution_count": null,
   "id": "8f73b22f",
   "metadata": {},
   "outputs": [],
   "source": []
  },
  {
   "cell_type": "code",
   "execution_count": null,
   "id": "6256369f",
   "metadata": {},
   "outputs": [],
   "source": []
  },
  {
   "cell_type": "code",
   "execution_count": null,
   "id": "17b2dc7e",
   "metadata": {},
   "outputs": [],
   "source": []
  },
  {
   "cell_type": "code",
   "execution_count": null,
   "id": "f30a1b80",
   "metadata": {},
   "outputs": [],
   "source": []
  },
  {
   "cell_type": "code",
   "execution_count": 65,
   "id": "92455d5f",
   "metadata": {},
   "outputs": [],
   "source": [
    "# def hello():\n",
    "#     with open(\".\\\\event_data\\\\testing.csv\") as csv_file:\n",
    "#             dictionary = csv.DictReader(csv_file)\n",
    "#             what_to_fetch = ['name', 'gender', 'age']\n",
    "#             fetched_data = list()\n",
    "#             for rows in dictionary:\n",
    "#                 data = dict()\n",
    "#                 for field in what_to_fetch:\n",
    "#                     data[field] = rows[field]\n",
    "#                 fetched_data.append(data)\n",
    "#             return fetched_data\n",
    "                    \n",
    "#     return fetched_data\n",
    "\n",
    "                "
   ]
  },
  {
   "cell_type": "code",
   "execution_count": null,
   "id": "2723461d",
   "metadata": {},
   "outputs": [],
   "source": []
  },
  {
   "cell_type": "code",
   "execution_count": null,
   "id": "26c61d23",
   "metadata": {},
   "outputs": [],
   "source": []
  },
  {
   "cell_type": "code",
   "execution_count": null,
   "id": "1ad887be",
   "metadata": {},
   "outputs": [],
   "source": []
  },
  {
   "cell_type": "code",
   "execution_count": null,
   "id": "db6bc83b",
   "metadata": {},
   "outputs": [],
   "source": []
  },
  {
   "cell_type": "code",
   "execution_count": null,
   "id": "2f85f308",
   "metadata": {},
   "outputs": [],
   "source": []
  }
 ],
 "metadata": {
  "kernelspec": {
   "display_name": "Python 3 (ipykernel)",
   "language": "python",
   "name": "python3"
  },
  "language_info": {
   "codemirror_mode": {
    "name": "ipython",
    "version": 3
   },
   "file_extension": ".py",
   "mimetype": "text/x-python",
   "name": "python",
   "nbconvert_exporter": "python",
   "pygments_lexer": "ipython3",
   "version": "3.11.1"
  }
 },
 "nbformat": 4,
 "nbformat_minor": 5
}
